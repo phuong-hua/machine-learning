{
 "cells": [
  {
   "cell_type": "code",
   "execution_count": 35,
   "metadata": {},
   "outputs": [],
   "source": [
    "# Import packages\n",
    "import pandas as pd\n",
    "\n",
    "from nltk.tokenize import RegexpTokenizer\n",
    "from nltk.stem.wordnet import WordNetLemmatizer\n",
    "from sklearn.feature_extraction.text import CountVectorizer\n",
    "\n",
    "from sklearn.naive_bayes import MultinomialNB\n",
    "\n",
    "from numpy import concatenate\n",
    "from sklearn.semi_supervised import SelfTrainingClassifier\n",
    "from sklearn.linear_model import LogisticRegression\n",
    "\n",
    "from sklearn.metrics import accuracy_score, precision_score, recall_score, f1_score\n",
    "import seaborn as sns"
   ]
  },
  {
   "cell_type": "code",
   "execution_count": 2,
   "metadata": {},
   "outputs": [],
   "source": [
    "# Loading the data\n",
    "lab = pd.read_csv(r\"labelled.csv\")\n",
    "unlab = pd.read_csv(r\"unlabelled.csv\")\n",
    "original_unlab = pd.read_csv(r\"original_unlab.csv\")"
   ]
  },
  {
   "cell_type": "markdown",
   "metadata": {},
   "source": [
    "# PRE-PROCESSING DATA"
   ]
  },
  {
   "cell_type": "markdown",
   "metadata": {},
   "source": [
    "# CLEANING LABELLED DATA (here we treat labelled data as TRAINING DATA)"
   ]
  },
  {
   "cell_type": "markdown",
   "metadata": {},
   "source": [
    "# Remove hyperlinks, usernames"
   ]
  },
  {
   "cell_type": "code",
   "execution_count": 3,
   "metadata": {},
   "outputs": [
    {
     "name": "stdout",
     "output_type": "stream",
     "text": [
      "0         is upset that he can't update his Facebook by ...\n",
      "1          I dived many times for the ball. Managed to s...\n",
      "2           my whole body feels itchy and like its on fire \n",
      "3          hey  long time no see! Yes.. Rains a bit ,onl...\n",
      "4                                 nope they didn't have it \n",
      "                                ...                        \n",
      "524698    Good morning people of twitter. TGIFriday! Tha...\n",
      "524699                        in tampa... going to see him \n",
      "524700              GRINGO STAR tonight. Southern garage.  \n",
      "524701    Mid-morning snack time... A bowl of cheese noo...\n",
      "524702                 cant wait til her date this weekend \n",
      "Name: text, Length: 524703, dtype: object\n"
     ]
    }
   ],
   "source": [
    "# remove URL links, Website addresses and Twitter usernames\n",
    "lab['text'] = lab['text'].replace(r'http\\S+', '', regex=True).replace(r'www\\S+', '', regex=True).replace(r'@\\w+', '', regex=True)\n",
    "print(lab['text'])"
   ]
  },
  {
   "cell_type": "markdown",
   "metadata": {},
   "source": [
    "# Remove all special characters and punctuation\n",
    "# Tokenizer"
   ]
  },
  {
   "cell_type": "code",
   "execution_count": 4,
   "metadata": {},
   "outputs": [
    {
     "name": "stdout",
     "output_type": "stream",
     "text": [
      "0         [is, upset, that, he, can, t, update, his, Fac...\n",
      "1         [I, dived, many, times, for, the, ball, Manage...\n",
      "2         [my, whole, body, feels, itchy, and, like, its...\n",
      "3         [hey, long, time, no, see, Yes, Rains, a, bit,...\n",
      "4                           [nope, they, didn, t, have, it]\n",
      "                                ...                        \n",
      "524698    [Good, morning, people, of, twitter, TGIFriday...\n",
      "524699                     [in, tampa, going, to, see, him]\n",
      "524700            [GRINGO, STAR, tonight, Southern, garage]\n",
      "524701    [Mid, morning, snack, time, A, bowl, of, chees...\n",
      "524702          [cant, wait, til, her, date, this, weekend]\n",
      "Name: text, Length: 524703, dtype: object\n"
     ]
    }
   ],
   "source": [
    "# split sentences into token units\n",
    "token = RegexpTokenizer(r'[a-zA-Z0-9]+')\n",
    "lab['text'] = lab['text'].apply(token.tokenize)\n",
    "print(lab['text'])"
   ]
  },
  {
   "cell_type": "markdown",
   "metadata": {},
   "source": [
    "# Lemmatizer"
   ]
  },
  {
   "cell_type": "code",
   "execution_count": 5,
   "metadata": {},
   "outputs": [
    {
     "name": "stdout",
     "output_type": "stream",
     "text": [
      "0         be upset that he can t update his Facebook by ...\n",
      "1         I dive many time for the ball Managed to save ...\n",
      "2             my whole body feel itchy and like its on fire\n",
      "3         hey long time no see Yes Rains a bite only a b...\n",
      "4                                  nope they didn t have it\n",
      "                                ...                        \n",
      "524698    Good morning people of twitter TGIFriday Thats...\n",
      "524699                               in tampa go to see him\n",
      "524700                  GRINGO STAR tonight Southern garage\n",
      "524701    Mid morning snack time A bowl of cheese noodle...\n",
      "524702                  cant wait til her date this weekend\n",
      "Name: text, Length: 524703, dtype: object\n"
     ]
    }
   ],
   "source": [
    "# Find the standardised or base form of a word\n",
    "lem = WordNetLemmatizer()\n",
    "lab['text'] = lab['text'].apply(\n",
    "                    lambda lst:[lem.lemmatize(word,'v') for word in lst])\n",
    "lab['text'] = lab['text'].apply( lambda x: ' '.join(map(str,x)))\n",
    "print(lab['text'])"
   ]
  },
  {
   "cell_type": "markdown",
   "metadata": {},
   "source": [
    "# Turn the text content into numerical feature vectors"
   ]
  },
  {
   "cell_type": "code",
   "execution_count": 6,
   "metadata": {},
   "outputs": [],
   "source": [
    "# create a Vectorizer Object\n",
    "cv = CountVectorizer(lowercase= True,\n",
    "                     stop_words='english',\n",
    "                     ngram_range = (1,1),                     \n",
    "                     tokenizer = token.tokenize)"
   ]
  },
  {
   "cell_type": "code",
   "execution_count": 7,
   "metadata": {},
   "outputs": [],
   "source": [
    "# encode the text of labelled data\n",
    "X_train = cv.fit_transform(lab['text'])\n",
    "#print(\"\\nText counts for labelled data: \\n\", X_train)"
   ]
  },
  {
   "cell_type": "code",
   "execution_count": 8,
   "metadata": {},
   "outputs": [],
   "source": [
    "# define y_train\n",
    "y_train = lab.sentiment"
   ]
  },
  {
   "cell_type": "markdown",
   "metadata": {},
   "source": [
    "# CLEANING UNLABELLED DATA (here we treat unlabelled data as TEST DATA)"
   ]
  },
  {
   "cell_type": "markdown",
   "metadata": {},
   "source": [
    "# Remove hyperlinks, usernames"
   ]
  },
  {
   "cell_type": "code",
   "execution_count": 9,
   "metadata": {},
   "outputs": [
    {
     "name": "stdout",
     "output_type": "stream",
     "text": [
      "0           - A that's a bummer.  You shoulda got David ...\n",
      "1          no, it's not behaving at all. i'm mad. why am...\n",
      "2                                       not the whole crew \n",
      "3                                               Need a hug \n",
      "4               spring break in plain city... it's snowing \n",
      "                                ...                        \n",
      "523868    today's message in the church service was deli...\n",
      "523869    Back home, thought I'd done for the week, but ...\n",
      "523870             My GrandMa is making Dinenr with my Mum \n",
      "523871     same here  say it like from the Terminiator m...\n",
      "523872                              im great thaanks  wbuu?\n",
      "Name: text, Length: 523873, dtype: object\n"
     ]
    }
   ],
   "source": [
    "# remove URL links, Website addresses and Twitter usernames\n",
    "unlab['text'] = unlab['text'].replace(r'http\\S+', '', regex=True).replace(r'www\\S+', '', regex=True).replace(r'@\\w+', '', regex=True)\n",
    "print(unlab['text'])"
   ]
  },
  {
   "cell_type": "markdown",
   "metadata": {},
   "source": [
    "# Remove all special characters and punctuation\n",
    "# Tokenizer"
   ]
  },
  {
   "cell_type": "code",
   "execution_count": 10,
   "metadata": {},
   "outputs": [
    {
     "name": "stdout",
     "output_type": "stream",
     "text": [
      "0         [A, that, s, a, bummer, You, shoulda, got, Dav...\n",
      "1         [no, it, s, not, behaving, at, all, i, m, mad,...\n",
      "2                                   [not, the, whole, crew]\n",
      "3                                            [Need, a, hug]\n",
      "4          [spring, break, in, plain, city, it, s, snowing]\n",
      "                                ...                        \n",
      "523868    [today, s, message, in, the, church, service, ...\n",
      "523869    [Back, home, thought, I, d, done, for, the, we...\n",
      "523870     [My, GrandMa, is, making, Dinenr, with, my, Mum]\n",
      "523871    [same, here, say, it, like, from, the, Termini...\n",
      "523872                           [im, great, thaanks, wbuu]\n",
      "Name: text, Length: 523873, dtype: object\n"
     ]
    }
   ],
   "source": [
    "# split sentences into token units\n",
    "unlab['text'] = unlab['text'].apply(token.tokenize)\n",
    "print(unlab['text'])"
   ]
  },
  {
   "cell_type": "markdown",
   "metadata": {},
   "source": [
    "# Lemmatizer"
   ]
  },
  {
   "cell_type": "code",
   "execution_count": 11,
   "metadata": {},
   "outputs": [
    {
     "name": "stdout",
     "output_type": "stream",
     "text": [
      "0         A that s a bummer You shoulda get David Carr o...\n",
      "1         no it s not behave at all i m mad why be i her...\n",
      "2                                        not the whole crew\n",
      "3                                                Need a hug\n",
      "4                      spring break in plain city it s snow\n",
      "                                ...                        \n",
      "523868    today s message in the church service be deliv...\n",
      "523869    Back home think I d do for the week but just h...\n",
      "523870                My GrandMa be make Dinenr with my Mum\n",
      "523871    same here say it like from the Terminiator mov...\n",
      "523872                                im great thaanks wbuu\n",
      "Name: text, Length: 523873, dtype: object\n"
     ]
    }
   ],
   "source": [
    "# Find the standardised or base form of a word\n",
    "unlab['text'] = unlab['text'].apply(\n",
    "                    lambda lst:[lem.lemmatize(word,'v') for word in lst])\n",
    "unlab['text'] = unlab['text'].apply( lambda x: ' '.join(map(str,x)))\n",
    "print(unlab['text'])"
   ]
  },
  {
   "cell_type": "markdown",
   "metadata": {},
   "source": [
    "# Turn the text content into numerical feature vectors"
   ]
  },
  {
   "cell_type": "code",
   "execution_count": 12,
   "metadata": {},
   "outputs": [],
   "source": [
    "# encode the text of unlabelled data\n",
    "X_test = cv.transform(unlab.text)\n",
    "#print(\"\\nText counts: \\n for unlabelled data\", X_test)"
   ]
  },
  {
   "cell_type": "code",
   "execution_count": 13,
   "metadata": {},
   "outputs": [],
   "source": [
    "# define y_test\n",
    "y_test = unlab.sentiment"
   ]
  },
  {
   "cell_type": "code",
   "execution_count": 14,
   "metadata": {},
   "outputs": [],
   "source": [
    "# define y true\n",
    "# y true is  the real label of the unlabelled data before assigning sentiment values with -1\n",
    "y_true = original_unlab.sentiment"
   ]
  },
  {
   "cell_type": "markdown",
   "metadata": {},
   "source": [
    "# Data shape summary"
   ]
  },
  {
   "cell_type": "code",
   "execution_count": 15,
   "metadata": {},
   "outputs": [
    {
     "name": "stdout",
     "output_type": "stream",
     "text": [
      "Shape of endcoded labelled data:  (524703, 133053) (524703,)\n",
      "Shape of endcoded unlabelled data:  (523873, 133053) (523873,)\n"
     ]
    }
   ],
   "source": [
    "print('Shape of endcoded labelled data: ', X_train.shape, y_train.shape)\n",
    "print('Shape of endcoded unlabelled data: ', X_test.shape, y_test.shape)"
   ]
  },
  {
   "cell_type": "markdown",
   "metadata": {},
   "source": [
    "# SUPERVISED MODEL USING MULTINOMIAL NAIVE BAYES"
   ]
  },
  {
   "cell_type": "code",
   "execution_count": 16,
   "metadata": {},
   "outputs": [],
   "source": [
    "# fit model on the Labelled training dataset\n",
    "model1 = MultinomialNB().fit(X_train, y_train)         "
   ]
  },
  {
   "cell_type": "code",
   "execution_count": 17,
   "metadata": {},
   "outputs": [],
   "source": [
    "# make prediction on the Unlabelled Test dataset\n",
    "y_pred1 = model1.predict(X_test)  "
   ]
  },
  {
   "cell_type": "code",
   "execution_count": 36,
   "metadata": {},
   "outputs": [
    {
     "name": "stdout",
     "output_type": "stream",
     "text": [
      "Supervised model using Multinomial Naive Bayes: \n",
      "\n",
      "Accuracy score :  0.8187003338595423\n",
      "Precision score :  0.7013757643135075\n",
      "Recall score :  0.40715553404323973\n",
      "F1 score :  0.5152204981625153\n"
     ]
    }
   ],
   "source": [
    "# Evaluating our model\n",
    "print('Supervised model using Multinomial Naive Bayes: \\n')\n",
    "print('Accuracy score : ', format(accuracy_score(y_true, y_pred1 )))\n",
    "print('Precision score : ', format(precision_score(y_true, y_pred1, pos_label=4)))\n",
    "print('Recall score : ', format(recall_score(y_true, y_pred1, pos_label=4)))\n",
    "print('F1 score : ', format(f1_score(y_true, y_pred1, pos_label=4)))"
   ]
  },
  {
   "cell_type": "markdown",
   "metadata": {},
   "source": [
    "# SEMI-SUPERVISED MODEL USING SELF TRAINING CLASSIFIER"
   ]
  },
  {
   "cell_type": "code",
   "execution_count": 19,
   "metadata": {},
   "outputs": [],
   "source": [
    "# combine the labelled and unlabelled X \n",
    "from scipy.sparse import vstack\n",
    "X_train_mixed = vstack([X_train, X_test])"
   ]
  },
  {
   "cell_type": "code",
   "execution_count": 20,
   "metadata": {},
   "outputs": [
    {
     "data": {
      "text/plain": [
       "(1048576, 133053)"
      ]
     },
     "execution_count": 20,
     "metadata": {},
     "output_type": "execute_result"
    }
   ],
   "source": [
    "X_train_mixed.shape"
   ]
  },
  {
   "cell_type": "code",
   "execution_count": 21,
   "metadata": {},
   "outputs": [],
   "source": [
    "# recombine training dataset labels\n",
    "y_train_mixed = concatenate((y_train, y_test))"
   ]
  },
  {
   "cell_type": "code",
   "execution_count": 22,
   "metadata": {},
   "outputs": [
    {
     "data": {
      "text/plain": [
       "(1048576,)"
      ]
     },
     "execution_count": 22,
     "metadata": {},
     "output_type": "execute_result"
    }
   ],
   "source": [
    "y_train_mixed.shape"
   ]
  },
  {
   "cell_type": "code",
   "execution_count": 23,
   "metadata": {},
   "outputs": [
    {
     "data": {
      "text/plain": [
       "SelfTrainingClassifier(base_estimator=LogisticRegression(max_iter=800))"
      ]
     },
     "execution_count": 23,
     "metadata": {},
     "output_type": "execute_result"
    }
   ],
   "source": [
    "# define Logistic Regression model\n",
    "logistis_regression_model = LogisticRegression (max_iter = 800)\n",
    "\n",
    "# Input this model into the self-training classifier\n",
    "model2 = SelfTrainingClassifier(logistis_regression_model)                                                                                                                                                                                                                                                                                                                                                                                                                                                                                                                                                                                                                                                                                                                                                                                                                                                                                                                                                                                                                                                                                                                                                                                                                                                                                                                                                                                                                                                                                                                                                                                                                                                                                                                                                                                                                                                                                                                                                                                                                                                                                                                                                                                                                                                                                                                                                                                                                                                                                                                                                                                                                                                                                                                                                                                                                                                                                                                                                                                                                                                                                                                                                                                                                                                                                                                                                                                                                                                                                                                                                                                                                                                                                                                                                                                                                                                                                                                                                                                                                                                                                                                                                                                                                                                                                                                                                                                                                                                                                                                                                                                                                                                                                                                                                                                                                                                                                                                                                                                                                                                                                                                                                                                                                                                                                                                                                                                                                                                                                                                                                                                                                                                                                                                                                                                                                                                                                                                                                                                                                                                                                                                                                                                                                                                                                                                                                                                                                                                                                                                                                                                                                                                                                                                                                                                                                                                                                                                                                                                                                                                                                                                                                                                                                                                                                                                                                                                                                                                                                                                                                                                                                                                                                                                                                                                                                                                                                                                                                                                                                                                                                                                                                                                                                                                                                                                                                                                                                                                                                                                                                                                                                                                                                                                                                                                                                                                                                                                                                                                                                                                                                                                                                                                                                                                                                                                                                                                                                                                                                                                                                                                                                                                                                                                                                                                                                                                                                                                                                   \n",
    "model2.fit(X_train_mixed, y_train_mixed)"
   ]
  },
  {
   "cell_type": "code",
   "execution_count": 24,
   "metadata": {},
   "outputs": [],
   "source": [
    "# make prediction on Unlabelled Test data\n",
    "y_pred2= model2.predict(X_test)"
   ]
  },
  {
   "cell_type": "code",
   "execution_count": 37,
   "metadata": {},
   "outputs": [
    {
     "name": "stdout",
     "output_type": "stream",
     "text": [
      "Semi-supervised model using Logistic Regression: \n",
      "\n",
      "Accuracy score :  0.8224531518135121\n",
      "Precision score :  0.7013757643135075\n",
      "Recall score :  0.4298402710551791\n",
      "F1 score :  0.533956648528395\n"
     ]
    }
   ],
   "source": [
    "# Evaluating our model\n",
    "print('Semi-supervised model using Logistic Regression: \\n')\n",
    "print('Accuracy score : ', format(accuracy_score(y_true, y_pred2 )))\n",
    "print('Precision score : ', format(precision_score(y_true, y_pred1, pos_label=4)))\n",
    "print('Recall score : ', format(recall_score(y_true, y_pred2, pos_label=4)))\n",
    "print('F1 score : ', format(f1_score(y_true, y_pred2, pos_label=4)))"
   ]
  },
  {
   "cell_type": "markdown",
   "metadata": {},
   "source": [
    "# SEMI-SUPERVISED MODEL BASED ON MULTINOMIAL NAIVE BAYES"
   ]
  },
  {
   "cell_type": "code",
   "execution_count": 26,
   "metadata": {},
   "outputs": [],
   "source": [
    "# define Multinomial Naive Bayes model\n",
    "clf = MultinomialNB()"
   ]
  },
  {
   "cell_type": "code",
   "execution_count": 27,
   "metadata": {},
   "outputs": [],
   "source": [
    "# define Self Training Classifier\n",
    "model3 = SelfTrainingClassifier(clf)"
   ]
  },
  {
   "cell_type": "code",
   "execution_count": 28,
   "metadata": {},
   "outputs": [
    {
     "data": {
      "text/plain": [
       "SelfTrainingClassifier(base_estimator=MultinomialNB())"
      ]
     },
     "execution_count": 28,
     "metadata": {},
     "output_type": "execute_result"
    }
   ],
   "source": [
    "# fit the model into the self-training classifier\n",
    "model3.fit(X_train_mixed, y_train_mixed)"
   ]
  },
  {
   "cell_type": "code",
   "execution_count": 29,
   "metadata": {},
   "outputs": [],
   "source": [
    "# make prediction on Unlabelled Test data\n",
    "y_pred3= model3.predict(X_test)"
   ]
  },
  {
   "cell_type": "code",
   "execution_count": 38,
   "metadata": {},
   "outputs": [
    {
     "name": "stdout",
     "output_type": "stream",
     "text": [
      "Semi-supervised model using Multinomial Naive Bayes: \n",
      "\n",
      "Accuracy score :  0.8114256699619946\n",
      "Precision score :  0.7013757643135075\n",
      "Recall score :  0.36854630525976123\n",
      "F1 score :  0.48049264036937517\n"
     ]
    }
   ],
   "source": [
    "# Evaluating our model\n",
    "print('Semi-supervised model using Multinomial Naive Bayes: \\n')\n",
    "print('Accuracy score : ', format(accuracy_score(y_true, y_pred3 )))\n",
    "print('Precision score : ', format(precision_score(y_true, y_pred1, pos_label=4)))\n",
    "print('Recall score : ', format(recall_score(y_true, y_pred3, pos_label=4)))\n",
    "print('F1 score : ', format(f1_score(y_true, y_pred3, pos_label=4)))"
   ]
  },
  {
   "cell_type": "markdown",
   "metadata": {},
   "source": [
    "# PLOT THE SCORES OF THREE MODELS"
   ]
  },
  {
   "cell_type": "code",
   "execution_count": 39,
   "metadata": {},
   "outputs": [
    {
     "data": {
      "text/html": [
       "<div>\n",
       "<style scoped>\n",
       "    .dataframe tbody tr th:only-of-type {\n",
       "        vertical-align: middle;\n",
       "    }\n",
       "\n",
       "    .dataframe tbody tr th {\n",
       "        vertical-align: top;\n",
       "    }\n",
       "\n",
       "    .dataframe thead th {\n",
       "        text-align: right;\n",
       "    }\n",
       "</style>\n",
       "<table border=\"1\" class=\"dataframe\">\n",
       "  <thead>\n",
       "    <tr style=\"text-align: right;\">\n",
       "      <th></th>\n",
       "      <th>Model Name</th>\n",
       "      <th>Accuracy</th>\n",
       "      <th>Precision</th>\n",
       "      <th>Recall</th>\n",
       "      <th>F1</th>\n",
       "    </tr>\n",
       "  </thead>\n",
       "  <tbody>\n",
       "    <tr>\n",
       "      <th>0</th>\n",
       "      <td>MulNB</td>\n",
       "      <td>0.818700</td>\n",
       "      <td>0.701376</td>\n",
       "      <td>0.407156</td>\n",
       "      <td>0.515220</td>\n",
       "    </tr>\n",
       "    <tr>\n",
       "      <th>1</th>\n",
       "      <td>Sem-sup + LR</td>\n",
       "      <td>0.822453</td>\n",
       "      <td>0.701376</td>\n",
       "      <td>0.429840</td>\n",
       "      <td>0.533957</td>\n",
       "    </tr>\n",
       "    <tr>\n",
       "      <th>2</th>\n",
       "      <td>Sem-sup + MulNB</td>\n",
       "      <td>0.811426</td>\n",
       "      <td>0.701376</td>\n",
       "      <td>0.368546</td>\n",
       "      <td>0.480493</td>\n",
       "    </tr>\n",
       "  </tbody>\n",
       "</table>\n",
       "</div>"
      ],
      "text/plain": [
       "        Model Name  Accuracy  Precision    Recall        F1\n",
       "0            MulNB  0.818700   0.701376  0.407156  0.515220\n",
       "1     Sem-sup + LR  0.822453   0.701376  0.429840  0.533957\n",
       "2  Sem-sup + MulNB  0.811426   0.701376  0.368546  0.480493"
      ]
     },
     "execution_count": 39,
     "metadata": {},
     "output_type": "execute_result"
    }
   ],
   "source": [
    "# create a dataframe of performance score\n",
    "score_data = [[\"MulNB\",0.8187003338595423,0.7013757643135075, 0.40715553404323973,0.5152204981625153],\n",
    "      [\"Sem-sup + LR\",0.8224531518135121,0.7013757643135075, 0.4298402710551791,0.533956648528395],\n",
    "      [\"Sem-sup + MulNB\",0.8114256699619946,0.7013757643135075, 0.36854630525976123,0.48049264036937517]]\n",
    "\n",
    "score_data_df = pd.DataFrame(score_data,columns=[\"Model Name\",\"Accuracy\",\"Precision\", \"Recall\",\"F1\"])\n",
    "score_data_df"
   ]
  },
  {
   "cell_type": "code",
   "execution_count": 40,
   "metadata": {},
   "outputs": [
    {
     "data": {
      "text/html": [
       "<div>\n",
       "<style scoped>\n",
       "    .dataframe tbody tr th:only-of-type {\n",
       "        vertical-align: middle;\n",
       "    }\n",
       "\n",
       "    .dataframe tbody tr th {\n",
       "        vertical-align: top;\n",
       "    }\n",
       "\n",
       "    .dataframe thead th {\n",
       "        text-align: right;\n",
       "    }\n",
       "</style>\n",
       "<table border=\"1\" class=\"dataframe\">\n",
       "  <thead>\n",
       "    <tr style=\"text-align: right;\">\n",
       "      <th></th>\n",
       "      <th>Model Name</th>\n",
       "      <th>Performance</th>\n",
       "      <th>Score</th>\n",
       "    </tr>\n",
       "  </thead>\n",
       "  <tbody>\n",
       "    <tr>\n",
       "      <th>0</th>\n",
       "      <td>MulNB</td>\n",
       "      <td>Accuracy</td>\n",
       "      <td>0.818700</td>\n",
       "    </tr>\n",
       "    <tr>\n",
       "      <th>1</th>\n",
       "      <td>Sem-sup + LR</td>\n",
       "      <td>Accuracy</td>\n",
       "      <td>0.822453</td>\n",
       "    </tr>\n",
       "    <tr>\n",
       "      <th>2</th>\n",
       "      <td>Sem-sup + MulNB</td>\n",
       "      <td>Accuracy</td>\n",
       "      <td>0.811426</td>\n",
       "    </tr>\n",
       "    <tr>\n",
       "      <th>3</th>\n",
       "      <td>MulNB</td>\n",
       "      <td>Precision</td>\n",
       "      <td>0.701376</td>\n",
       "    </tr>\n",
       "    <tr>\n",
       "      <th>4</th>\n",
       "      <td>Sem-sup + LR</td>\n",
       "      <td>Precision</td>\n",
       "      <td>0.701376</td>\n",
       "    </tr>\n",
       "    <tr>\n",
       "      <th>5</th>\n",
       "      <td>Sem-sup + MulNB</td>\n",
       "      <td>Precision</td>\n",
       "      <td>0.701376</td>\n",
       "    </tr>\n",
       "    <tr>\n",
       "      <th>6</th>\n",
       "      <td>MulNB</td>\n",
       "      <td>Recall</td>\n",
       "      <td>0.407156</td>\n",
       "    </tr>\n",
       "    <tr>\n",
       "      <th>7</th>\n",
       "      <td>Sem-sup + LR</td>\n",
       "      <td>Recall</td>\n",
       "      <td>0.429840</td>\n",
       "    </tr>\n",
       "    <tr>\n",
       "      <th>8</th>\n",
       "      <td>Sem-sup + MulNB</td>\n",
       "      <td>Recall</td>\n",
       "      <td>0.368546</td>\n",
       "    </tr>\n",
       "    <tr>\n",
       "      <th>9</th>\n",
       "      <td>MulNB</td>\n",
       "      <td>F1</td>\n",
       "      <td>0.515220</td>\n",
       "    </tr>\n",
       "    <tr>\n",
       "      <th>10</th>\n",
       "      <td>Sem-sup + LR</td>\n",
       "      <td>F1</td>\n",
       "      <td>0.533957</td>\n",
       "    </tr>\n",
       "    <tr>\n",
       "      <th>11</th>\n",
       "      <td>Sem-sup + MulNB</td>\n",
       "      <td>F1</td>\n",
       "      <td>0.480493</td>\n",
       "    </tr>\n",
       "  </tbody>\n",
       "</table>\n",
       "</div>"
      ],
      "text/plain": [
       "         Model Name Performance     Score\n",
       "0             MulNB    Accuracy  0.818700\n",
       "1      Sem-sup + LR    Accuracy  0.822453\n",
       "2   Sem-sup + MulNB    Accuracy  0.811426\n",
       "3             MulNB   Precision  0.701376\n",
       "4      Sem-sup + LR   Precision  0.701376\n",
       "5   Sem-sup + MulNB   Precision  0.701376\n",
       "6             MulNB      Recall  0.407156\n",
       "7      Sem-sup + LR      Recall  0.429840\n",
       "8   Sem-sup + MulNB      Recall  0.368546\n",
       "9             MulNB          F1  0.515220\n",
       "10     Sem-sup + LR          F1  0.533957\n",
       "11  Sem-sup + MulNB          F1  0.480493"
      ]
     },
     "execution_count": 40,
     "metadata": {},
     "output_type": "execute_result"
    }
   ],
   "source": [
    "score_data_melted = score_data_df.melt(\"Model Name\",var_name=\"Performance\",value_name=\"Score\")\n",
    "score_data_melted"
   ]
  },
  {
   "cell_type": "code",
   "execution_count": 41,
   "metadata": {},
   "outputs": [
    {
     "data": {
      "text/plain": [
       "<seaborn.axisgrid.FacetGrid at 0x2875961d310>"
      ]
     },
     "execution_count": 41,
     "metadata": {},
     "output_type": "execute_result"
    },
    {
     "data": {
      "image/png": "[encoded data removed]",
      "text/plain": [
       "<Figure size 441.75x360 with 1 Axes>"
      ]
     },
     "metadata": {
      "needs_background": "light"
     },
     "output_type": "display_data"
    }
   ],
   "source": [
    "sns.catplot(x='Model Name', y='Score', hue='Performance', data=score_data_melted, kind='bar',palette=\"Set2\")"
   ]
  },
  {
   "cell_type": "code",
   "execution_count": null,
   "metadata": {},
   "outputs": [],
   "source": []
  }
 ],
 "metadata": {
  "kernelspec": {
   "display_name": "Python 3 (ipykernel)",
   "language": "python",
   "name": "python3"
  },
  "language_info": {
   "codemirror_mode": {
    "name": "ipython",
    "version": 3
   },
   "file_extension": ".py",
   "mimetype": "text/x-python",
   "name": "python",
   "nbconvert_exporter": "python",
   "pygments_lexer": "ipython3",
   "version": "3.9.7"
  }
 },
 "nbformat": 4,
 "nbformat_minor": 2
}
