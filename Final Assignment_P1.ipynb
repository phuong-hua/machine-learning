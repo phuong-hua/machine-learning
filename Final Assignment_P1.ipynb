{
 "cells": [
  {
   "cell_type": "markdown",
   "metadata": {},
   "source": [
    "# Data splitting "
   ]
  },
  {
   "cell_type": "code",
   "execution_count": 1,
   "metadata": {},
   "outputs": [],
   "source": [
    "# Import packages\n",
    "import pandas as pd\n",
    "import numpy as np\n",
    "import random\n",
    "import matplotlib.pyplot as plt\n",
    "%matplotlib inline"
   ]
  },
  {
   "cell_type": "code",
   "execution_count": 2,
   "metadata": {},
   "outputs": [
    {
     "name": "stdout",
     "output_type": "stream",
     "text": [
      "Data info: \n",
      " <bound method DataFrame.info of          sentiment                                               text\n",
      "0                0  @switchfoot http://twitpic.com/2y1zl - Awww, t...\n",
      "1                0  is upset that he can't update his Facebook by ...\n",
      "2                0  @Kenichan I dived many times for the ball. Man...\n",
      "3                0    my whole body feels itchy and like its on fire \n",
      "4                0  @nationwideclass no, it's not behaving at all....\n",
      "...            ...                                                ...\n",
      "1048571          4           My GrandMa is making Dinenr with my Mum \n",
      "1048572          4  Mid-morning snack time... A bowl of cheese noo...\n",
      "1048573          4  @ShaDeLa same here  say it like from the Termi...\n",
      "1048574          4             @DestinyHope92 im great thaanks  wbuu?\n",
      "1048575          4               cant wait til her date this weekend \n",
      "\n",
      "[1048576 rows x 2 columns]>\n"
     ]
    }
   ],
   "source": [
    "# Load data \n",
    "original_data = pd.read_csv(r\"data.csv\", \n",
    "                   names=['sentiment','text'], header=None, encoding='latin-1')\n",
    "print(\"Data info: \\n\",original_data.info) "
   ]
  },
  {
   "cell_type": "code",
   "execution_count": 3,
   "metadata": {},
   "outputs": [
    {
     "data": {
      "text/html": [
       "<div>\n",
       "<style scoped>\n",
       "    .dataframe tbody tr th:only-of-type {\n",
       "        vertical-align: middle;\n",
       "    }\n",
       "\n",
       "    .dataframe tbody tr th {\n",
       "        vertical-align: top;\n",
       "    }\n",
       "\n",
       "    .dataframe thead th {\n",
       "        text-align: right;\n",
       "    }\n",
       "</style>\n",
       "<table border=\"1\" class=\"dataframe\">\n",
       "  <thead>\n",
       "    <tr style=\"text-align: right;\">\n",
       "      <th></th>\n",
       "      <th>sentiment</th>\n",
       "      <th>text</th>\n",
       "    </tr>\n",
       "  </thead>\n",
       "  <tbody>\n",
       "    <tr>\n",
       "      <th>0</th>\n",
       "      <td>0</td>\n",
       "      <td>@switchfoot http://twitpic.com/2y1zl - Awww, t...</td>\n",
       "    </tr>\n",
       "    <tr>\n",
       "      <th>1</th>\n",
       "      <td>0</td>\n",
       "      <td>is upset that he can't update his Facebook by ...</td>\n",
       "    </tr>\n",
       "    <tr>\n",
       "      <th>2</th>\n",
       "      <td>0</td>\n",
       "      <td>@Kenichan I dived many times for the ball. Man...</td>\n",
       "    </tr>\n",
       "    <tr>\n",
       "      <th>3</th>\n",
       "      <td>0</td>\n",
       "      <td>my whole body feels itchy and like its on fire</td>\n",
       "    </tr>\n",
       "    <tr>\n",
       "      <th>4</th>\n",
       "      <td>0</td>\n",
       "      <td>@nationwideclass no, it's not behaving at all....</td>\n",
       "    </tr>\n",
       "  </tbody>\n",
       "</table>\n",
       "</div>"
      ],
      "text/plain": [
       "   sentiment                                               text\n",
       "0          0  @switchfoot http://twitpic.com/2y1zl - Awww, t...\n",
       "1          0  is upset that he can't update his Facebook by ...\n",
       "2          0  @Kenichan I dived many times for the ball. Man...\n",
       "3          0    my whole body feels itchy and like its on fire \n",
       "4          0  @nationwideclass no, it's not behaving at all...."
      ]
     },
     "execution_count": 3,
     "metadata": {},
     "output_type": "execute_result"
    }
   ],
   "source": [
    "original_data.head()"
   ]
  },
  {
   "cell_type": "code",
   "execution_count": 4,
   "metadata": {},
   "outputs": [
    {
     "data": {
      "text/plain": [
       "sentiment    0\n",
       "text         0\n",
       "dtype: int64"
      ]
     },
     "execution_count": 4,
     "metadata": {},
     "output_type": "execute_result"
    }
   ],
   "source": [
    "original_data.isnull().sum()"
   ]
  },
  {
   "cell_type": "code",
   "execution_count": 5,
   "metadata": {},
   "outputs": [
    {
     "data": {
      "text/plain": [
       "0    800000\n",
       "4    248576\n",
       "Name: sentiment, dtype: int64"
      ]
     },
     "execution_count": 5,
     "metadata": {},
     "output_type": "execute_result"
    }
   ],
   "source": [
    "original_data.sentiment.value_counts()"
   ]
  },
  {
   "cell_type": "code",
   "execution_count": 14,
   "metadata": {},
   "outputs": [
    {
     "data": {
      "text/plain": [
       "<AxesSubplot:ylabel='sentiment'>"
      ]
     },
     "execution_count": 14,
     "metadata": {},
     "output_type": "execute_result"
    },
    {
     "data": {
      "image/png": "[encoded data removed]",
      "text/plain": [
       "<Figure size 432x288 with 1 Axes>"
      ]
     },
     "metadata": {},
     "output_type": "display_data"
    }
   ],
   "source": [
    "original_data.sentiment.value_counts().plot(kind='pie', autopct='%1.0f%%', labels = [\"negative = 0\",\"positive = 4\"], colors=[\"yellow\", \"green\"])"
   ]
  },
  {
   "cell_type": "code",
   "execution_count": 7,
   "metadata": {},
   "outputs": [],
   "source": [
    "labels = np.copy(original_data.sentiment)"
   ]
  },
  {
   "cell_type": "code",
   "execution_count": 8,
   "metadata": {},
   "outputs": [
    {
     "name": "stdout",
     "output_type": "stream",
     "text": [
      "Boolean values: \n",
      " [ True False False False  True  True  True False False False]\n",
      "Number of trues: \n",
      " 523873\n",
      "Original Y labels: \n",
      " [0 0 0 0 0 0 0 0 0 0]\n",
      "New Y labels: \n",
      " [-1  0  0  0 -1 -1 -1  0  0  0]\n",
      "Number of unlabeled datapoints: \n",
      " 523873\n"
     ]
    }
   ],
   "source": [
    "# generate random floating numbers ranging from 0 to 1\n",
    "rng = np.random.RandomState(42)\n",
    "      \n",
    "# randomly assign 50% of the datapoints to being unlabelled\n",
    "# values less than 0.5 will be set as no labels\n",
    "random_unlab_points = rng.rand(labels.shape[0]) < 0.5\n",
    "print(\"Boolean values: \\n\", random_unlab_points[:10])\n",
    "print(\"Number of trues: \\n\", sum(random_unlab_points))\n",
    "\n",
    "Y = labels[random_unlab_points]\n",
    "print(\"Original Y labels: \\n\", Y[:10])\n",
    "\n",
    "# values less than 0.5 (True values) are set as -1 \n",
    "labels[random_unlab_points] = -1\n",
    "\n",
    "print(\"New Y labels: \\n\", labels[:10])  \n",
    "print(\"Number of unlabeled datapoints: \\n\",list(labels).count(-1))"
   ]
  },
  {
   "cell_type": "code",
   "execution_count": 9,
   "metadata": {},
   "outputs": [
    {
     "name": "stdout",
     "output_type": "stream",
     "text": [
      "Original dataset: \n",
      "\n",
      "   sentiment                                               text\n",
      "0          0  @switchfoot http://twitpic.com/2y1zl - Awww, t...\n",
      "1          0  is upset that he can't update his Facebook by ...\n",
      "2          0  @Kenichan I dived many times for the ball. Man...\n",
      "3          0    my whole body feels itchy and like its on fire \n",
      "4          0  @nationwideclass no, it's not behaving at all....\n",
      " \n",
      "\n",
      "Dataset with Boolean column: \n",
      "\n",
      "   sentiment  Boolean val                                               text\n",
      "0          0         True  @switchfoot http://twitpic.com/2y1zl - Awww, t...\n",
      "1          0        False  is upset that he can't update his Facebook by ...\n",
      "2          0        False  @Kenichan I dived many times for the ball. Man...\n",
      "3          0        False    my whole body feels itchy and like its on fire \n",
      "4          0         True  @nationwideclass no, it's not behaving at all....\n",
      " \n",
      "\n",
      " Data set with selected rows before assigning value -1 for True labels: \n",
      "\n",
      "   sentiment  Boolean val                                               text\n",
      "0          0         True  @switchfoot http://twitpic.com/2y1zl - Awww, t...\n",
      "1          0         True  @nationwideclass no, it's not behaving at all....\n",
      "2          0         True                      @Kwesidei not the whole crew \n",
      "3          0         True                                        Need a hug \n",
      "4          0         True        spring break in plain city... it's snowing \n"
     ]
    }
   ],
   "source": [
    "print(\"Original dataset: \\n\")\n",
    "print(original_data.head())\n",
    "print(\" \\n\")\n",
    "\n",
    "# make a copy of original data to work on\n",
    "data_copy = original_data.copy()\n",
    "\n",
    "# insert Boolean values into copy of dataframe\n",
    "data_copy.insert(loc = 1,column = 'Boolean val',value = random_unlab_points)\n",
    "print(\"Dataset with Boolean column: \\n\")\n",
    "print(data_copy.head())\n",
    "print(\" \\n\")\n",
    "\n",
    "# save a copy of dataframe with Boolean column to use later\n",
    "new_data = data_copy.copy()\n",
    "\n",
    "# keep only rows that have True values \n",
    "data_copy.drop(data_copy[data_copy['Boolean val'] == False].index, inplace = True)\n",
    "# reset index\n",
    "data_copy.reset_index(drop=True,inplace = True) \n",
    "\n",
    "# keep a copy of \"original\" unlabelled dataset\n",
    "original_unlab = data_copy\n",
    "print(\" Data set with selected rows before assigning value -1 for True labels: \\n\")\n",
    "print(original_unlab.head())\n",
    "\n",
    "# save to csv file\n",
    "original_unlab.to_csv(r\"original_unlab.csv\")"
   ]
  },
  {
   "cell_type": "markdown",
   "metadata": {},
   "source": [
    "# Save the data on two separate files"
   ]
  },
  {
   "cell_type": "code",
   "execution_count": 10,
   "metadata": {},
   "outputs": [
    {
     "data": {
      "text/html": [
       "<div>\n",
       "<style scoped>\n",
       "    .dataframe tbody tr th:only-of-type {\n",
       "        vertical-align: middle;\n",
       "    }\n",
       "\n",
       "    .dataframe tbody tr th {\n",
       "        vertical-align: top;\n",
       "    }\n",
       "\n",
       "    .dataframe thead th {\n",
       "        text-align: right;\n",
       "    }\n",
       "</style>\n",
       "<table border=\"1\" class=\"dataframe\">\n",
       "  <thead>\n",
       "    <tr style=\"text-align: right;\">\n",
       "      <th></th>\n",
       "      <th>sentiment</th>\n",
       "      <th>text</th>\n",
       "    </tr>\n",
       "  </thead>\n",
       "  <tbody>\n",
       "    <tr>\n",
       "      <th>0</th>\n",
       "      <td>-1</td>\n",
       "      <td>@switchfoot http://twitpic.com/2y1zl - Awww, t...</td>\n",
       "    </tr>\n",
       "    <tr>\n",
       "      <th>1</th>\n",
       "      <td>0</td>\n",
       "      <td>is upset that he can't update his Facebook by ...</td>\n",
       "    </tr>\n",
       "    <tr>\n",
       "      <th>2</th>\n",
       "      <td>0</td>\n",
       "      <td>@Kenichan I dived many times for the ball. Man...</td>\n",
       "    </tr>\n",
       "    <tr>\n",
       "      <th>3</th>\n",
       "      <td>0</td>\n",
       "      <td>my whole body feels itchy and like its on fire</td>\n",
       "    </tr>\n",
       "    <tr>\n",
       "      <th>4</th>\n",
       "      <td>-1</td>\n",
       "      <td>@nationwideclass no, it's not behaving at all....</td>\n",
       "    </tr>\n",
       "  </tbody>\n",
       "</table>\n",
       "</div>"
      ],
      "text/plain": [
       "   sentiment                                               text\n",
       "0         -1  @switchfoot http://twitpic.com/2y1zl - Awww, t...\n",
       "1          0  is upset that he can't update his Facebook by ...\n",
       "2          0  @Kenichan I dived many times for the ball. Man...\n",
       "3          0    my whole body feels itchy and like its on fire \n",
       "4         -1  @nationwideclass no, it's not behaving at all...."
      ]
     },
     "execution_count": 10,
     "metadata": {},
     "output_type": "execute_result"
    }
   ],
   "source": [
    "# create new dataframe with some datapoint's labels = -1\n",
    "new_data['sentiment'] = labels\n",
    "new_data = new_data.drop(['Boolean val'],axis=1)\n",
    "new_data.head()"
   ]
  },
  {
   "cell_type": "code",
   "execution_count": 11,
   "metadata": {},
   "outputs": [
    {
     "data": {
      "text/html": [
       "<div>\n",
       "<style scoped>\n",
       "    .dataframe tbody tr th:only-of-type {\n",
       "        vertical-align: middle;\n",
       "    }\n",
       "\n",
       "    .dataframe tbody tr th {\n",
       "        vertical-align: top;\n",
       "    }\n",
       "\n",
       "    .dataframe thead th {\n",
       "        text-align: right;\n",
       "    }\n",
       "</style>\n",
       "<table border=\"1\" class=\"dataframe\">\n",
       "  <thead>\n",
       "    <tr style=\"text-align: right;\">\n",
       "      <th></th>\n",
       "      <th>sentiment</th>\n",
       "      <th>text</th>\n",
       "    </tr>\n",
       "  </thead>\n",
       "  <tbody>\n",
       "    <tr>\n",
       "      <th>0</th>\n",
       "      <td>0</td>\n",
       "      <td>is upset that he can't update his Facebook by ...</td>\n",
       "    </tr>\n",
       "    <tr>\n",
       "      <th>1</th>\n",
       "      <td>0</td>\n",
       "      <td>@Kenichan I dived many times for the ball. Man...</td>\n",
       "    </tr>\n",
       "    <tr>\n",
       "      <th>2</th>\n",
       "      <td>0</td>\n",
       "      <td>my whole body feels itchy and like its on fire</td>\n",
       "    </tr>\n",
       "    <tr>\n",
       "      <th>3</th>\n",
       "      <td>0</td>\n",
       "      <td>@LOLTrish hey  long time no see! Yes.. Rains a...</td>\n",
       "    </tr>\n",
       "    <tr>\n",
       "      <th>4</th>\n",
       "      <td>0</td>\n",
       "      <td>@Tatiana_K nope they didn't have it</td>\n",
       "    </tr>\n",
       "  </tbody>\n",
       "</table>\n",
       "</div>"
      ],
      "text/plain": [
       "   sentiment                                               text\n",
       "0          0  is upset that he can't update his Facebook by ...\n",
       "1          0  @Kenichan I dived many times for the ball. Man...\n",
       "2          0    my whole body feels itchy and like its on fire \n",
       "3          0  @LOLTrish hey  long time no see! Yes.. Rains a...\n",
       "4          0               @Tatiana_K nope they didn't have it "
      ]
     },
     "execution_count": 11,
     "metadata": {},
     "output_type": "execute_result"
    }
   ],
   "source": [
    "# 1.LABELLED DATA \n",
    "# filter data by column value 0 or 4\n",
    "lab_data=new_data.loc[(new_data['sentiment']> -1)] \n",
    "# reset index\n",
    "lab_data= lab_data.reset_index(drop=True)\n",
    "# Save to csv file\n",
    "lab_data.to_csv(r\"labelled.csv\")\n",
    "lab_data.head()"
   ]
  },
  {
   "cell_type": "code",
   "execution_count": 12,
   "metadata": {},
   "outputs": [
    {
     "data": {
      "text/html": [
       "<div>\n",
       "<style scoped>\n",
       "    .dataframe tbody tr th:only-of-type {\n",
       "        vertical-align: middle;\n",
       "    }\n",
       "\n",
       "    .dataframe tbody tr th {\n",
       "        vertical-align: top;\n",
       "    }\n",
       "\n",
       "    .dataframe thead th {\n",
       "        text-align: right;\n",
       "    }\n",
       "</style>\n",
       "<table border=\"1\" class=\"dataframe\">\n",
       "  <thead>\n",
       "    <tr style=\"text-align: right;\">\n",
       "      <th></th>\n",
       "      <th>sentiment</th>\n",
       "      <th>text</th>\n",
       "    </tr>\n",
       "  </thead>\n",
       "  <tbody>\n",
       "    <tr>\n",
       "      <th>0</th>\n",
       "      <td>-1</td>\n",
       "      <td>@switchfoot http://twitpic.com/2y1zl - Awww, t...</td>\n",
       "    </tr>\n",
       "    <tr>\n",
       "      <th>1</th>\n",
       "      <td>-1</td>\n",
       "      <td>@nationwideclass no, it's not behaving at all....</td>\n",
       "    </tr>\n",
       "    <tr>\n",
       "      <th>2</th>\n",
       "      <td>-1</td>\n",
       "      <td>@Kwesidei not the whole crew</td>\n",
       "    </tr>\n",
       "    <tr>\n",
       "      <th>3</th>\n",
       "      <td>-1</td>\n",
       "      <td>Need a hug</td>\n",
       "    </tr>\n",
       "    <tr>\n",
       "      <th>4</th>\n",
       "      <td>-1</td>\n",
       "      <td>spring break in plain city... it's snowing</td>\n",
       "    </tr>\n",
       "  </tbody>\n",
       "</table>\n",
       "</div>"
      ],
      "text/plain": [
       "   sentiment                                               text\n",
       "0         -1  @switchfoot http://twitpic.com/2y1zl - Awww, t...\n",
       "1         -1  @nationwideclass no, it's not behaving at all....\n",
       "2         -1                      @Kwesidei not the whole crew \n",
       "3         -1                                        Need a hug \n",
       "4         -1        spring break in plain city... it's snowing "
      ]
     },
     "execution_count": 12,
     "metadata": {},
     "output_type": "execute_result"
    }
   ],
   "source": [
    "# 2.UNLABELLED DATA \n",
    "# filter data by column value\n",
    "unlab_data = new_data.loc[(new_data['sentiment']== -1)]\n",
    "# reset index\n",
    "unlab_data = unlab_data.reset_index(drop=True)\n",
    "# Save to csv file\n",
    "unlab_data.to_csv(r\"unlabelled.csv\") \n",
    "unlab_data.head()"
   ]
  },
  {
   "cell_type": "code",
   "execution_count": 13,
   "metadata": {},
   "outputs": [
    {
     "name": "stdout",
     "output_type": "stream",
     "text": [
      "Original Dataset: (1048576, 2)\n",
      "Labeled Dataset: (524703, 2)\n",
      "Unlabeled Dataset: (523873, 2)\n"
     ]
    }
   ],
   "source": [
    "# summarize the original dataset size\n",
    "print('Original Dataset:', original_data.shape)\n",
    "# summarize the labelled and unlabelled dataset size\n",
    "print('Labeled Dataset:', lab_data.shape)\n",
    "print('Unlabeled Dataset:', unlab_data.shape)\n"
   ]
  },
  {
   "cell_type": "code",
   "execution_count": null,
   "metadata": {},
   "outputs": [],
   "source": []
  }
 ],
 "metadata": {
  "kernelspec": {
   "display_name": "Python 3 (ipykernel)",
   "language": "python",
   "name": "python3"
  },
  "language_info": {
   "codemirror_mode": {
    "name": "ipython",
    "version": 3
   },
   "file_extension": ".py",
   "mimetype": "text/x-python",
   "name": "python",
   "nbconvert_exporter": "python",
   "pygments_lexer": "ipython3",
   "version": "3.9.7"
  }
 },
 "nbformat": 4,
 "nbformat_minor": 2
}
