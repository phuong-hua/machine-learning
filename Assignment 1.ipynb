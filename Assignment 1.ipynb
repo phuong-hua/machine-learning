{
 "cells": [
  {
   "cell_type": "markdown",
   "metadata": {},
   "source": [
    "# QUESTION 1"
   ]
  },
  {
   "cell_type": "markdown",
   "metadata": {},
   "source": [
    "# 1. LOAD THE DATA SET"
   ]
  },
  {
   "cell_type": "code",
   "execution_count": 1,
   "metadata": {},
   "outputs": [],
   "source": [
    "import pandas as pd\n",
    "from matplotlib import pyplot as plt\n",
    "#!pip install --upgrade sklearn"
   ]
  },
  {
   "cell_type": "code",
   "execution_count": 2,
   "metadata": {},
   "outputs": [],
   "source": [
    "data1 = pd.read_csv(r\"D:\\1.PHUONG-USQ\\CSC8003-Machine Learning\\Assignment 1\\Q1_data.csv\")\n",
    "df1=pd.DataFrame(data1)"
   ]
  },
  {
   "cell_type": "markdown",
   "metadata": {},
   "source": [
    "# 2. EXPLORE THE DATASET (Features identification)"
   ]
  },
  {
   "cell_type": "code",
   "execution_count": 3,
   "metadata": {},
   "outputs": [
    {
     "name": "stdout",
     "output_type": "stream",
     "text": [
      "<class 'pandas.core.frame.DataFrame'>\n",
      "RangeIndex: 21613 entries, 0 to 21612\n",
      "Data columns (total 21 columns):\n",
      "id               21613 non-null int64\n",
      "date             21613 non-null object\n",
      "price            21613 non-null float64\n",
      "bedrooms         21613 non-null int64\n",
      "bathrooms        21613 non-null float64\n",
      "sqft_living      21613 non-null int64\n",
      "sqft_lot         21613 non-null int64\n",
      "floors           21613 non-null float64\n",
      "waterfront       21613 non-null int64\n",
      "view             21613 non-null int64\n",
      "condition        21613 non-null int64\n",
      "grade            21613 non-null int64\n",
      "sqft_above       21613 non-null int64\n",
      "sqft_basement    21613 non-null int64\n",
      "yr_built         21613 non-null int64\n",
      "yr_renovated     21613 non-null int64\n",
      "zipcode          21613 non-null int64\n",
      "lat              21613 non-null float64\n",
      "long             21613 non-null float64\n",
      "sqft_living15    21613 non-null int64\n",
      "sqft_lot15       21613 non-null int64\n",
      "dtypes: float64(5), int64(15), object(1)\n",
      "memory usage: 3.5+ MB\n",
      "Dataframe info:  None\n"
     ]
    }
   ],
   "source": [
    "# To check the dataset\n",
    "print(\"Dataframe info: \", df1.info())"
   ]
  },
  {
   "cell_type": "code",
   "execution_count": 4,
   "metadata": {},
   "outputs": [
    {
     "name": "stdout",
     "output_type": "stream",
     "text": [
      "['id' 'date' 'price' 'bedrooms' 'bathrooms' 'sqft_living' 'sqft_lot'\n",
      " 'floors' 'waterfront' 'view' 'condition' 'grade' 'sqft_above'\n",
      " 'sqft_basement' 'yr_built' 'yr_renovated' 'zipcode' 'lat' 'long'\n",
      " 'sqft_living15' 'sqft_lot15']\n"
     ]
    }
   ],
   "source": [
    "# column names\n",
    "print(df1.columns.values)"
   ]
  },
  {
   "cell_type": "code",
   "execution_count": 5,
   "metadata": {},
   "outputs": [
    {
     "name": "stdout",
     "output_type": "stream",
     "text": [
      "\n",
      "Correlation matrix of all variables \n",
      "                      id     price  bedrooms  bathrooms  sqft_living  sqft_lot  \\\n",
      "id             1.000000 -0.016762  0.001286   0.005160    -0.012258 -0.132109   \n",
      "price         -0.016762  1.000000  0.308350   0.525138     0.702035  0.089661   \n",
      "bedrooms       0.001286  0.308350  1.000000   0.515884     0.576671  0.031703   \n",
      "bathrooms      0.005160  0.525138  0.515884   1.000000     0.754665  0.087740   \n",
      "sqft_living   -0.012258  0.702035  0.576671   0.754665     1.000000  0.172826   \n",
      "sqft_lot      -0.132109  0.089661  0.031703   0.087740     0.172826  1.000000   \n",
      "floors         0.018525  0.256794  0.175429   0.500653     0.353949 -0.005201   \n",
      "waterfront    -0.002721  0.266369 -0.006582   0.063744     0.103818  0.021604   \n",
      "view           0.011592  0.397293  0.079532   0.187737     0.284611  0.074710   \n",
      "condition     -0.023783  0.036362  0.028472  -0.124982    -0.058753 -0.008958   \n",
      "grade          0.008130  0.667434  0.356967   0.664983     0.762704  0.113621   \n",
      "sqft_above    -0.010842  0.605567  0.477600   0.685342     0.876597  0.183512   \n",
      "sqft_basement -0.005151  0.323816  0.303093   0.283770     0.435043  0.015286   \n",
      "yr_built       0.021380  0.054012  0.154178   0.506019     0.318049  0.053080   \n",
      "yr_renovated  -0.016907  0.126434  0.018841   0.050739     0.055363  0.007644   \n",
      "zipcode       -0.008224 -0.053203 -0.152668  -0.203866    -0.199430 -0.129574   \n",
      "lat           -0.001891  0.307003 -0.008931   0.024573     0.052529 -0.085683   \n",
      "long           0.020799  0.021626  0.129473   0.223042     0.240223  0.229521   \n",
      "sqft_living15 -0.002901  0.585379  0.391638   0.568634     0.756420  0.144608   \n",
      "sqft_lot15    -0.138798  0.082447  0.029244   0.087175     0.183286  0.718557   \n",
      "\n",
      "                 floors  waterfront      view  condition     grade  \\\n",
      "id             0.018525   -0.002721  0.011592  -0.023783  0.008130   \n",
      "price          0.256794    0.266369  0.397293   0.036362  0.667434   \n",
      "bedrooms       0.175429   -0.006582  0.079532   0.028472  0.356967   \n",
      "bathrooms      0.500653    0.063744  0.187737  -0.124982  0.664983   \n",
      "sqft_living    0.353949    0.103818  0.284611  -0.058753  0.762704   \n",
      "sqft_lot      -0.005201    0.021604  0.074710  -0.008958  0.113621   \n",
      "floors         1.000000    0.023698  0.029444  -0.263768  0.458183   \n",
      "waterfront     0.023698    1.000000  0.401857   0.016653  0.082775   \n",
      "view           0.029444    0.401857  1.000000   0.045990  0.251321   \n",
      "condition     -0.263768    0.016653  0.045990   1.000000 -0.144674   \n",
      "grade          0.458183    0.082775  0.251321  -0.144674  1.000000   \n",
      "sqft_above     0.523885    0.072075  0.167649  -0.158214  0.755923   \n",
      "sqft_basement -0.245705    0.080588  0.276947   0.174105  0.168392   \n",
      "yr_built       0.489319   -0.026161 -0.053440  -0.361417  0.446963   \n",
      "yr_renovated   0.006338    0.092885  0.103917  -0.060618  0.014414   \n",
      "zipcode       -0.059121    0.030285  0.084827   0.003026 -0.184862   \n",
      "lat            0.049614   -0.014274  0.006157  -0.014941  0.114084   \n",
      "long           0.125419   -0.041910 -0.078400  -0.106500  0.198372   \n",
      "sqft_living15  0.279885    0.086463  0.280439  -0.092824  0.713202   \n",
      "sqft_lot15    -0.011269    0.030703  0.072575  -0.003406  0.119248   \n",
      "\n",
      "               sqft_above  sqft_basement  yr_built  yr_renovated   zipcode  \\\n",
      "id              -0.010842      -0.005151  0.021380     -0.016907 -0.008224   \n",
      "price            0.605567       0.323816  0.054012      0.126434 -0.053203   \n",
      "bedrooms         0.477600       0.303093  0.154178      0.018841 -0.152668   \n",
      "bathrooms        0.685342       0.283770  0.506019      0.050739 -0.203866   \n",
      "sqft_living      0.876597       0.435043  0.318049      0.055363 -0.199430   \n",
      "sqft_lot         0.183512       0.015286  0.053080      0.007644 -0.129574   \n",
      "floors           0.523885      -0.245705  0.489319      0.006338 -0.059121   \n",
      "waterfront       0.072075       0.080588 -0.026161      0.092885  0.030285   \n",
      "view             0.167649       0.276947 -0.053440      0.103917  0.084827   \n",
      "condition       -0.158214       0.174105 -0.361417     -0.060618  0.003026   \n",
      "grade            0.755923       0.168392  0.446963      0.014414 -0.184862   \n",
      "sqft_above       1.000000      -0.051943  0.423898      0.023285 -0.261190   \n",
      "sqft_basement   -0.051943       1.000000 -0.133124      0.071323  0.074845   \n",
      "yr_built         0.423898      -0.133124  1.000000     -0.224874 -0.346869   \n",
      "yr_renovated     0.023285       0.071323 -0.224874      1.000000  0.064357   \n",
      "zipcode         -0.261190       0.074845 -0.346869      0.064357  1.000000   \n",
      "lat             -0.000816       0.110538 -0.148122      0.029398  0.267048   \n",
      "long             0.343803      -0.144765  0.409356     -0.068372 -0.564072   \n",
      "sqft_living15    0.731870       0.200355  0.326229     -0.002673 -0.279033   \n",
      "sqft_lot15       0.194050       0.017276  0.070958      0.007854 -0.147221   \n",
      "\n",
      "                    lat      long  sqft_living15  sqft_lot15  \n",
      "id            -0.001891  0.020799      -0.002901   -0.138798  \n",
      "price          0.307003  0.021626       0.585379    0.082447  \n",
      "bedrooms      -0.008931  0.129473       0.391638    0.029244  \n",
      "bathrooms      0.024573  0.223042       0.568634    0.087175  \n",
      "sqft_living    0.052529  0.240223       0.756420    0.183286  \n",
      "sqft_lot      -0.085683  0.229521       0.144608    0.718557  \n",
      "floors         0.049614  0.125419       0.279885   -0.011269  \n",
      "waterfront    -0.014274 -0.041910       0.086463    0.030703  \n",
      "view           0.006157 -0.078400       0.280439    0.072575  \n",
      "condition     -0.014941 -0.106500      -0.092824   -0.003406  \n",
      "grade          0.114084  0.198372       0.713202    0.119248  \n",
      "sqft_above    -0.000816  0.343803       0.731870    0.194050  \n",
      "sqft_basement  0.110538 -0.144765       0.200355    0.017276  \n",
      "yr_built      -0.148122  0.409356       0.326229    0.070958  \n",
      "yr_renovated   0.029398 -0.068372      -0.002673    0.007854  \n",
      "zipcode        0.267048 -0.564072      -0.279033   -0.147221  \n",
      "lat            1.000000 -0.135512       0.048858   -0.086419  \n",
      "long          -0.135512  1.000000       0.334605    0.254451  \n",
      "sqft_living15  0.048858  0.334605       1.000000    0.183192  \n",
      "sqft_lot15    -0.086419  0.254451       0.183192    1.000000  \n"
     ]
    }
   ],
   "source": [
    "# for the correlation matrix\n",
    "print(\"\\nCorrelation matrix of all variables \\n\", df1.corr())"
   ]
  },
  {
   "cell_type": "markdown",
   "metadata": {},
   "source": [
    "# 3.TRAINING-TEST SPLIT"
   ]
  },
  {
   "cell_type": "code",
   "execution_count": 6,
   "metadata": {},
   "outputs": [
    {
     "name": "stdout",
     "output_type": "stream",
     "text": [
      "X train shape: (19451, 14)\n",
      "X test shape: (2162, 14)\n",
      "y train shape: (19451, 1)\n",
      "y test shape: (2162, 1)\n"
     ]
    }
   ],
   "source": [
    "import numpy as np\n",
    "from sklearn.model_selection import train_test_split\n",
    "\n",
    "# select features to use in model\n",
    "input_data = np.array(df1[[\"bedrooms\",\"bathrooms\",\"sqft_living\",\n",
    "                          \"floors\",\"waterfront\",\"view\",\n",
    "                          \"grade\",\"sqft_above\",\"sqft_basement\",\n",
    "                          \"yr_built\",\"yr_renovated\",\"zipcode\",\n",
    "                          \"sqft_living15\",\"sqft_lot15\"]])\n",
    "# reshape the array\n",
    "input_data.resize((input_data.shape[0],14)) \n",
    "#print('input data:',input_data)\n",
    "\n",
    "output_data = np.array(df1[\"price\"])\n",
    "output_data.resize((output_data.shape[0],1))\n",
    "#print('output data:',output_data)\n",
    "\n",
    "# Divide the training data and testing data (90% training and 10% test)\n",
    "X_multi_train, X_multi_test, y_train, y_test = train_test_split(input_data, output_data, \n",
    "                                                                test_size=0.1, random_state = 42)\n",
    "\n",
    "print(\"X train shape:\",X_multi_train.shape)\n",
    "print(\"X test shape:\",X_multi_test.shape)\n",
    "print(\"y train shape:\",y_train.shape)\n",
    "print(\"y test shape:\",y_test.shape)"
   ]
  },
  {
   "cell_type": "code",
   "execution_count": 7,
   "metadata": {},
   "outputs": [],
   "source": [
    "# Save the training data and testing data on two separate files\n",
    "# 1.TRAINING DATA \n",
    "# Stack two numpy arrays\n",
    "training_data_combined = np.column_stack((X_multi_train,y_train))\n",
    "# Convert numpy arrays to DataFrame\n",
    "training_data_df = pd.DataFrame(training_data_combined,\n",
    "                                columns = [\"bedrooms\",\"bathrooms\",\"sqft_living\",\n",
    "                                           \"floors\",\"waterfront\",\"view\",\n",
    "                                           \"grade\",\"sqft_above\",\"sqft_basement\",\n",
    "                                           \"yr_built\",\"yr_renovated\",\"zipcode\",\n",
    "                                           \"sqft_living15\",\"sqft_lot15\",\"price\"])\n",
    "# Save to csv file\n",
    "training_data_df.to_csv(r\"D:\\1.PHUONG-USQ\\CSC8003-Machine Learning\\Assignment 1\\training_data.csv\")\n",
    "\n",
    "# 2.TEST DATA \n",
    "# Stack two numpy arrays\n",
    "test_data_combined = np.column_stack((X_multi_test,y_test))\n",
    "# Convert numpy arrays to DataFrame\n",
    "test_data_df = pd.DataFrame(test_data_combined,\n",
    "                                columns = [\"bedrooms\",\"bathrooms\",\"sqft_living\",\n",
    "                                           \"floors\",\"waterfront\",\"view\",\n",
    "                                           \"grade\",\"sqft_above\",\"sqft_basement\",\n",
    "                                           \"yr_built\",\"yr_renovated\",\"zipcode\",\n",
    "                                           \"sqft_living15\",\"sqft_lot15\",\"price\"])\n",
    "# Save to csv file\n",
    "test_data_df.to_csv(r\"D:\\1.PHUONG-USQ\\CSC8003-Machine Learning\\Assignment 1\\test_data.csv\") "
   ]
  },
  {
   "cell_type": "markdown",
   "metadata": {},
   "source": [
    "# 4.FIT THE MODEL"
   ]
  },
  {
   "cell_type": "code",
   "execution_count": 8,
   "metadata": {},
   "outputs": [
    {
     "name": "stdout",
     "output_type": "stream",
     "text": [
      "Slope:  [[-3.94697851e+04  5.05503293e+04  1.09902342e+02  2.32706761e+04\n",
      "   5.65141266e+05  4.34354015e+04  1.18580086e+05  5.09215997e+01\n",
      "   5.89807428e+01 -3.75384854e+03  4.85750204e+00 -3.27788840e+01\n",
      "   2.34505408e+01 -5.54105924e-01]]\n",
      "Intercept:  [9845509.23172088]\n"
     ]
    }
   ],
   "source": [
    "from sklearn import linear_model\n",
    "\n",
    "regression_df = linear_model.LinearRegression()  \n",
    "regression_df.fit(X_multi_train, y_train) \n",
    "\n",
    "# Slope and intercept\n",
    "slope = regression_df.coef_\n",
    "intercept = regression_df.intercept_\n",
    "print(\"Slope: \", slope)\n",
    "print(\"Intercept: \", intercept)"
   ]
  },
  {
   "cell_type": "markdown",
   "metadata": {},
   "source": [
    "# 5. TEST THE MODEL"
   ]
  },
  {
   "cell_type": "code",
   "execution_count": 9,
   "metadata": {},
   "outputs": [
    {
     "name": "stdout",
     "output_type": "stream",
     "text": [
      "R^2: 0.645\n"
     ]
    }
   ],
   "source": [
    "from sklearn.metrics import r2_score\n",
    "\n",
    "# Predicted y values using model\n",
    "y_pred = regression_df.predict(X_multi_test)\n",
    "# Print the score\n",
    "linear_rsq = r2_score(y_test, y_pred)\n",
    "print(f\"R^2:\", round(linear_rsq, 3))"
   ]
  },
  {
   "cell_type": "markdown",
   "metadata": {},
   "source": [
    "# 5. PRINT THE MODEL"
   ]
  },
  {
   "cell_type": "markdown",
   "metadata": {},
   "source": [
    "#The fitted model:\n",
    "$$y = -3.94697851e+04x(bedrooms) + 5.05503293e+04x(bathrooms) + 1.09902342e+02x(sqft_living)\n",
    "      +2.32706761e+04x(floors) + 5.65141266e+05x(waterfront) + 4.34354015e+04x(view)\n",
    "      +1.18580086e+05x(grade) + 5.09215997e+01x(sqft_above) + 5.89807428e+01x(sqft_basement) \n",
    "      -3.75384854e+03x(yr_built) + 4.85750204e+00x(yr_renovated) -3.27788840e+01x(zipcode)\n",
    "      +2.34505408e+01x(sqft_living15) - 5.54105924e-01x(sqft_lot15) + 9845509.23172088$$  \n",
    "                                          "
   ]
  },
  {
   "cell_type": "markdown",
   "metadata": {},
   "source": [
    "#     QUESTION 2"
   ]
  },
  {
   "cell_type": "markdown",
   "metadata": {},
   "source": [
    "# 1.LOAD THE DATA SET"
   ]
  },
  {
   "cell_type": "code",
   "execution_count": 10,
   "metadata": {},
   "outputs": [],
   "source": [
    "#import packages\n",
    "import pandas as pd\n",
    "from sklearn import tree\n",
    "from sklearn.tree import DecisionTreeClassifier,plot_tree\n",
    "from sklearn import metrics\n",
    "from matplotlib import pyplot as plt"
   ]
  },
  {
   "cell_type": "code",
   "execution_count": 11,
   "metadata": {},
   "outputs": [],
   "source": [
    "# load the training data\n",
    "data2 = pd.read_csv(r\"D:\\1.PHUONG-USQ\\CSC8003-Machine Learning\\Assignment 1\\Q2_Training.csv\")\n",
    "df2=pd.DataFrame(data2)\n",
    "# Load the testing data\n",
    "data3 = pd.read_csv(r\"D:\\1.PHUONG-USQ\\CSC8003-Machine Learning\\Assignment 1\\Q2_Testing.csv\")\n",
    "df3=pd.DataFrame(data3)"
   ]
  },
  {
   "cell_type": "markdown",
   "metadata": {},
   "source": [
    "# 2.EXPLORE THE DATA SET"
   ]
  },
  {
   "cell_type": "code",
   "execution_count": 12,
   "metadata": {},
   "outputs": [
    {
     "name": "stdout",
     "output_type": "stream",
     "text": [
      "<class 'pandas.core.frame.DataFrame'>\n",
      "RangeIndex: 4920 entries, 0 to 4919\n",
      "Columns: 133 entries, itching to prognosis\n",
      "dtypes: int64(132), object(1)\n",
      "memory usage: 5.0+ MB\n",
      "Dataframe info:  None\n"
     ]
    }
   ],
   "source": [
    "# To check the dataset\n",
    "print(\"Dataframe info: \", df2.info())"
   ]
  },
  {
   "cell_type": "code",
   "execution_count": 13,
   "metadata": {},
   "outputs": [
    {
     "name": "stdout",
     "output_type": "stream",
     "text": [
      "\n",
      "These are the training feature values:  \n",
      " ['itching', 'skin_rash', 'nodal_skin_eruptions', 'continuous_sneezing', 'shivering', 'chills', 'joint_pain', 'stomach_pain', 'acidity', 'ulcers_on_tongue', 'muscle_wasting', 'vomiting', 'burning_micturition', 'spotting_ urination', 'fatigue', 'weight_gain', 'anxiety', 'cold_hands_and_feets', 'mood_swings', 'weight_loss', 'restlessness', 'lethargy', 'patches_in_throat', 'irregular_sugar_level', 'cough', 'high_fever', 'sunken_eyes', 'breathlessness', 'sweating', 'dehydration', 'indigestion', 'headache', 'yellowish_skin', 'dark_urine', 'nausea', 'loss_of_appetite', 'pain_behind_the_eyes', 'back_pain', 'constipation', 'abdominal_pain', 'diarrhoea', 'mild_fever', 'yellow_urine', 'yellowing_of_eyes', 'acute_liver_failure', 'fluid_overload', 'swelling_of_stomach', 'swelled_lymph_nodes', 'malaise', 'blurred_and_distorted_vision', 'phlegm', 'throat_irritation', 'redness_of_eyes', 'sinus_pressure', 'runny_nose', 'congestion', 'chest_pain', 'weakness_in_limbs', 'fast_heart_rate', 'pain_during_bowel_movements', 'pain_in_anal_region', 'bloody_stool', 'irritation_in_anus', 'neck_pain', 'dizziness', 'cramps', 'bruising', 'obesity', 'swollen_legs', 'swollen_blood_vessels', 'puffy_face_and_eyes', 'enlarged_thyroid', 'brittle_nails', 'swollen_extremeties', 'excessive_hunger', 'extra_marital_contacts', 'drying_and_tingling_lips', 'slurred_speech', 'knee_pain', 'hip_joint_pain', 'muscle_weakness', 'stiff_neck', 'swelling_joints', 'movement_stiffness', 'spinning_movements', 'loss_of_balance', 'unsteadiness', 'weakness_of_one_body_side', 'loss_of_smell', 'bladder_discomfort', 'foul_smell_of urine', 'continuous_feel_of_urine', 'passage_of_gases', 'internal_itching', 'toxic_look_(typhos)', 'depression', 'irritability', 'muscle_pain', 'altered_sensorium', 'red_spots_over_body', 'belly_pain', 'abnormal_menstruation', 'dischromic _patches', 'watering_from_eyes', 'increased_appetite', 'polyuria', 'family_history', 'mucoid_sputum', 'rusty_sputum', 'lack_of_concentration', 'visual_disturbances', 'receiving_blood_transfusion', 'receiving_unsterile_injections', 'coma', 'stomach_bleeding', 'distention_of_abdomen', 'history_of_alcohol_consumption', 'fluid_overload.1', 'blood_in_sputum', 'prominent_veins_on_calf', 'palpitations', 'painful_walking', 'pus_filled_pimples', 'blackheads', 'scurring', 'skin_peeling', 'silver_like_dusting', 'small_dents_in_nails', 'inflammatory_nails', 'blister', 'red_sore_around_nose', 'yellow_crust_ooze']\n"
     ]
    }
   ],
   "source": [
    "# check the feature values\n",
    "features = df2.iloc[:,:132].columns.values.tolist()\n",
    "\n",
    "print(\"\\nThese are the training feature values:  \\n\",features)"
   ]
  },
  {
   "cell_type": "code",
   "execution_count": 14,
   "metadata": {},
   "outputs": [
    {
     "name": "stdout",
     "output_type": "stream",
     "text": [
      "\n",
      "These are the predictive feature values:  \n",
      " ['Fungal infection', 'Allergy', 'GERD', 'Chronic cholestasis', 'Drug Reaction', 'Peptic ulcer diseae', 'AIDS', 'Diabetes ', 'Gastroenteritis', 'Bronchial Asthma', 'Hypertension ', 'Migraine', 'Cervical spondylosis', 'Paralysis (brain hemorrhage)', 'Jaundice', 'Malaria', 'Chicken pox', 'Dengue', 'Typhoid', 'hepatitis A', 'Hepatitis B', 'Hepatitis C', 'Hepatitis D', 'Hepatitis E', 'Alcoholic hepatitis', 'Tuberculosis', 'Common Cold', 'Pneumonia', 'Dimorphic hemmorhoids(piles)', 'Heart attack', 'Varicose veins', 'Hypothyroidism', 'Hyperthyroidism', 'Hypoglycemia', 'Osteoarthristis', 'Arthritis', '(vertigo) Paroymsal  Positional Vertigo', 'Acne', 'Urinary tract infection', 'Psoriasis', 'Impetigo']\n"
     ]
    }
   ],
   "source": [
    "# check the target values\n",
    "target = df2[\"prognosis\"].drop_duplicates(keep=\"first\").tolist()\n",
    "print(\"\\nThese are the predictive feature values:  \\n\", target)"
   ]
  },
  {
   "cell_type": "markdown",
   "metadata": {},
   "source": [
    "# 3. TRAIN THE MODEL"
   ]
  },
  {
   "cell_type": "code",
   "execution_count": 15,
   "metadata": {},
   "outputs": [
    {
     "name": "stdout",
     "output_type": "stream",
     "text": [
      "(4920, 132)\n",
      "(4920,)\n",
      "(41, 132)\n",
      "(41,)\n"
     ]
    }
   ],
   "source": [
    "# set the training input\n",
    "#X_train = df2.iloc[:,:132]\n",
    "X_train = df2[features]\n",
    "y_train = df2[\"prognosis\"]\n",
    "\n",
    "# set the testing input\n",
    "#X_test = df3.iloc[:,:132]\n",
    "X_test = df3[features]\n",
    "y_test = df3[\"prognosis\"]\n",
    "\n",
    "print(X_train.shape)\n",
    "print(y_train.shape)\n",
    "\n",
    "print(X_test.shape)\n",
    "print(y_test.shape)"
   ]
  },
  {
   "cell_type": "code",
   "execution_count": 16,
   "metadata": {},
   "outputs": [
    {
     "data": {
      "text/plain": [
       "DecisionTreeClassifier(ccp_alpha=0.0, class_weight=None, criterion='entropy',\n",
       "                       max_depth=6, max_features=None, max_leaf_nodes=None,\n",
       "                       min_impurity_decrease=0.0, min_impurity_split=None,\n",
       "                       min_samples_leaf=1, min_samples_split=2,\n",
       "                       min_weight_fraction_leaf=0.0, presort='deprecated',\n",
       "                       random_state=None, splitter='best')"
      ]
     },
     "execution_count": 16,
     "metadata": {},
     "output_type": "execute_result"
    }
   ],
   "source": [
    "# create a classifier\n",
    "dt = DecisionTreeClassifier(criterion=\"entropy\",max_depth=6)\n",
    "\n",
    "# fit the model with the input of training set\n",
    "dt.fit(X_train, y_train)"
   ]
  },
  {
   "cell_type": "markdown",
   "metadata": {},
   "source": [
    "# 4. TEST THE MODEL"
   ]
  },
  {
   "cell_type": "code",
   "execution_count": 17,
   "metadata": {},
   "outputs": [
    {
     "name": "stdout",
     "output_type": "stream",
     "text": [
      "Accuracy: 0.926829268292683\n"
     ]
    }
   ],
   "source": [
    "# predict by feeding the testing set into the model\n",
    "y_pred = dt.predict(X_test)\n",
    "\n",
    "# Calculate the accuracy\n",
    "print(\"Accuracy:\",metrics.accuracy_score(y_test, y_pred))"
   ]
  },
  {
   "cell_type": "markdown",
   "metadata": {},
   "source": [
    "# 5. PRINT THE DECISION TREE"
   ]
  },
  {
   "cell_type": "code",
   "execution_count": 18,
   "metadata": {},
   "outputs": [
    {
     "data": {
      "image/png": "[encoded data removed]",
      "text/plain": [
       "<Figure size 1200x1200 with 1 Axes>"
      ]
     },
     "metadata": {
      "needs_background": "light"
     },
     "output_type": "display_data"
    }
   ],
   "source": [
    "fig, axes = plt.subplots(nrows = 1, ncols = 1,figsize = (15,15), dpi=80)\n",
    "#to hide text, return _ \n",
    "_ = tree.plot_tree(dt,\n",
    "               feature_names = features, \n",
    "               class_names=target,\n",
    "               filled = True)"
   ]
  },
  {
   "cell_type": "code",
   "execution_count": 19,
   "metadata": {},
   "outputs": [
    {
     "name": "stdout",
     "output_type": "stream",
     "text": [
      "|--- fatigue <= 0.50\n",
      "|   |--- vomiting <= 0.50\n",
      "|   |   |--- skin_rash <= 0.50\n",
      "|   |   |   |--- headache <= 0.50\n",
      "|   |   |   |   |--- painful_walking <= 0.50\n",
      "|   |   |   |   |   |--- dizziness <= 0.50\n",
      "|   |   |   |   |   |   |--- class: AIDS\n",
      "|   |   |   |   |   |--- dizziness >  0.50\n",
      "|   |   |   |   |   |   |--- class: Cervical spondylosis\n",
      "|   |   |   |   |--- painful_walking >  0.50\n",
      "|   |   |   |   |   |--- hip_joint_pain <= 0.50\n",
      "|   |   |   |   |   |   |--- class: Arthritis\n",
      "|   |   |   |   |   |--- hip_joint_pain >  0.50\n",
      "|   |   |   |   |   |   |--- class: Osteoarthristis\n",
      "|   |   |   |--- headache >  0.50\n",
      "|   |   |   |   |--- loss_of_balance <= 0.50\n",
      "|   |   |   |   |   |--- visual_disturbances <= 0.50\n",
      "|   |   |   |   |   |   |--- class: Paralysis (brain hemorrhage)\n",
      "|   |   |   |   |   |--- visual_disturbances >  0.50\n",
      "|   |   |   |   |   |   |--- class: Migraine\n",
      "|   |   |   |   |--- loss_of_balance >  0.50\n",
      "|   |   |   |   |   |--- spinning_movements <= 0.50\n",
      "|   |   |   |   |   |   |--- class: Hypertension \n",
      "|   |   |   |   |   |--- spinning_movements >  0.50\n",
      "|   |   |   |   |   |   |--- class: (vertigo) Paroymsal  Positional Vertigo\n",
      "|   |   |--- skin_rash >  0.50\n",
      "|   |   |   |--- itching <= 0.50\n",
      "|   |   |   |   |--- yellow_crust_ooze <= 0.50\n",
      "|   |   |   |   |   |--- joint_pain <= 0.50\n",
      "|   |   |   |   |   |   |--- class: Acne\n",
      "|   |   |   |   |   |--- joint_pain >  0.50\n",
      "|   |   |   |   |   |   |--- class: Psoriasis\n",
      "|   |   |   |   |--- yellow_crust_ooze >  0.50\n",
      "|   |   |   |   |   |--- class: Impetigo\n",
      "|   |   |   |--- itching >  0.50\n",
      "|   |   |   |   |--- burning_micturition <= 0.50\n",
      "|   |   |   |   |   |--- spotting_ urination <= 0.50\n",
      "|   |   |   |   |   |   |--- class: Fungal infection\n",
      "|   |   |   |   |   |--- spotting_ urination >  0.50\n",
      "|   |   |   |   |   |   |--- class: Drug Reaction\n",
      "|   |   |   |   |--- burning_micturition >  0.50\n",
      "|   |   |   |   |   |--- class: Drug Reaction\n",
      "|   |--- vomiting >  0.50\n",
      "|   |   |--- nausea <= 0.50\n",
      "|   |   |   |--- abdominal_pain <= 0.50\n",
      "|   |   |   |   |--- chest_pain <= 0.50\n",
      "|   |   |   |   |   |--- diarrhoea <= 0.50\n",
      "|   |   |   |   |   |   |--- class: Paralysis (brain hemorrhage)\n",
      "|   |   |   |   |   |--- diarrhoea >  0.50\n",
      "|   |   |   |   |   |   |--- class: Gastroenteritis\n",
      "|   |   |   |   |--- chest_pain >  0.50\n",
      "|   |   |   |   |   |--- cough <= 0.50\n",
      "|   |   |   |   |   |   |--- class: Heart attack\n",
      "|   |   |   |   |   |--- cough >  0.50\n",
      "|   |   |   |   |   |   |--- class: GERD\n",
      "|   |   |   |--- abdominal_pain >  0.50\n",
      "|   |   |   |   |--- yellowish_skin <= 0.50\n",
      "|   |   |   |   |   |--- history_of_alcohol_consumption <= 0.50\n",
      "|   |   |   |   |   |   |--- class: Peptic ulcer diseae\n",
      "|   |   |   |   |   |--- history_of_alcohol_consumption >  0.50\n",
      "|   |   |   |   |   |   |--- class: Alcoholic hepatitis\n",
      "|   |   |   |   |--- yellowish_skin >  0.50\n",
      "|   |   |   |   |   |--- yellowing_of_eyes <= 0.50\n",
      "|   |   |   |   |   |   |--- class: Alcoholic hepatitis\n",
      "|   |   |   |   |   |--- yellowing_of_eyes >  0.50\n",
      "|   |   |   |   |   |   |--- class: Chronic cholestasis\n",
      "|   |   |--- nausea >  0.50\n",
      "|   |   |   |--- muscle_pain <= 0.50\n",
      "|   |   |   |   |--- abdominal_pain <= 0.50\n",
      "|   |   |   |   |   |--- unsteadiness <= 0.50\n",
      "|   |   |   |   |   |   |--- class: (vertigo) Paroymsal  Positional Vertigo\n",
      "|   |   |   |   |   |--- unsteadiness >  0.50\n",
      "|   |   |   |   |   |   |--- class: (vertigo) Paroymsal  Positional Vertigo\n",
      "|   |   |   |   |--- abdominal_pain >  0.50\n",
      "|   |   |   |   |   |--- joint_pain <= 0.50\n",
      "|   |   |   |   |   |   |--- class: Chronic cholestasis\n",
      "|   |   |   |   |   |--- joint_pain >  0.50\n",
      "|   |   |   |   |   |   |--- class: Hepatitis D\n",
      "|   |   |   |--- muscle_pain >  0.50\n",
      "|   |   |   |   |--- mild_fever <= 0.50\n",
      "|   |   |   |   |   |--- pain_behind_the_eyes <= 0.50\n",
      "|   |   |   |   |   |   |--- class: Malaria\n",
      "|   |   |   |   |   |--- pain_behind_the_eyes >  0.50\n",
      "|   |   |   |   |   |   |--- class: Dengue\n",
      "|   |   |   |   |--- mild_fever >  0.50\n",
      "|   |   |   |   |   |--- class: hepatitis A\n",
      "|--- fatigue >  0.50\n",
      "|   |--- loss_of_appetite <= 0.50\n",
      "|   |   |--- high_fever <= 0.50\n",
      "|   |   |   |--- irritability <= 0.50\n",
      "|   |   |   |   |--- polyuria <= 0.50\n",
      "|   |   |   |   |   |--- cramps <= 0.50\n",
      "|   |   |   |   |   |   |--- class: Bronchial Asthma\n",
      "|   |   |   |   |   |--- cramps >  0.50\n",
      "|   |   |   |   |   |   |--- class: Varicose veins\n",
      "|   |   |   |   |--- polyuria >  0.50\n",
      "|   |   |   |   |   |--- class: Diabetes \n",
      "|   |   |   |--- irritability >  0.50\n",
      "|   |   |   |   |--- palpitations <= 0.50\n",
      "|   |   |   |   |   |--- brittle_nails <= 0.50\n",
      "|   |   |   |   |   |   |--- class: Hyperthyroidism\n",
      "|   |   |   |   |   |--- brittle_nails >  0.50\n",
      "|   |   |   |   |   |   |--- class: Hypothyroidism\n",
      "|   |   |   |   |--- palpitations >  0.50\n",
      "|   |   |   |   |   |--- class: Hypoglycemia\n",
      "|   |   |--- high_fever >  0.50\n",
      "|   |   |   |--- chest_pain <= 0.50\n",
      "|   |   |   |   |--- chills <= 0.50\n",
      "|   |   |   |   |   |--- itching <= 0.50\n",
      "|   |   |   |   |   |   |--- class: Bronchial Asthma\n",
      "|   |   |   |   |   |--- itching >  0.50\n",
      "|   |   |   |   |   |   |--- class: Jaundice\n",
      "|   |   |   |   |--- chills >  0.50\n",
      "|   |   |   |   |   |--- class: Typhoid\n",
      "|   |   |   |--- chest_pain >  0.50\n",
      "|   |   |   |   |--- redness_of_eyes <= 0.50\n",
      "|   |   |   |   |   |--- class: Pneumonia\n",
      "|   |   |   |   |--- redness_of_eyes >  0.50\n",
      "|   |   |   |   |   |--- class: Common Cold\n",
      "|   |--- loss_of_appetite >  0.50\n",
      "|   |   |--- malaise <= 0.50\n",
      "|   |   |   |--- stomach_bleeding <= 0.50\n",
      "|   |   |   |   |--- joint_pain <= 0.50\n",
      "|   |   |   |   |   |--- vomiting <= 0.50\n",
      "|   |   |   |   |   |   |--- class: Hepatitis C\n",
      "|   |   |   |   |   |--- vomiting >  0.50\n",
      "|   |   |   |   |   |   |--- class: Hepatitis D\n",
      "|   |   |   |   |--- joint_pain >  0.50\n",
      "|   |   |   |   |   |--- skin_rash <= 0.50\n",
      "|   |   |   |   |   |   |--- class: Hepatitis D\n",
      "|   |   |   |   |   |--- skin_rash >  0.50\n",
      "|   |   |   |   |   |   |--- class: Dengue\n",
      "|   |   |   |--- stomach_bleeding >  0.50\n",
      "|   |   |   |   |--- class: Hepatitis E\n",
      "|   |   |--- malaise >  0.50\n",
      "|   |   |   |--- yellowing_of_eyes <= 0.50\n",
      "|   |   |   |   |--- back_pain <= 0.50\n",
      "|   |   |   |   |   |--- class: Chicken pox\n",
      "|   |   |   |   |--- back_pain >  0.50\n",
      "|   |   |   |   |   |--- class: Dengue\n",
      "|   |   |   |--- yellowing_of_eyes >  0.50\n",
      "|   |   |   |   |--- receiving_unsterile_injections <= 0.50\n",
      "|   |   |   |   |   |--- class: Tuberculosis\n",
      "|   |   |   |   |--- receiving_unsterile_injections >  0.50\n",
      "|   |   |   |   |   |--- class: Hepatitis B\n",
      "\n"
     ]
    }
   ],
   "source": [
    "text_representation = tree.export_text(dt,feature_names = features, \n",
    ")\n",
    "print(text_representation)"
   ]
  },
  {
   "cell_type": "code",
   "execution_count": 20,
   "metadata": {},
   "outputs": [],
   "source": [
    "with open(\"decistion_tree.log\", \"w\") as fout:\n",
    "    fout.write(text_representation)"
   ]
  },
  {
   "cell_type": "code",
   "execution_count": null,
   "metadata": {},
   "outputs": [],
   "source": []
  }
 ],
 "metadata": {
  "kernelspec": {
   "display_name": "Python 3",
   "language": "python",
   "name": "python3"
  },
  "language_info": {
   "codemirror_mode": {
    "name": "ipython",
    "version": 3
   },
   "file_extension": ".py",
   "mimetype": "text/x-python",
   "name": "python",
   "nbconvert_exporter": "python",
   "pygments_lexer": "ipython3",
   "version": "3.7.3"
  }
 },
 "nbformat": 4,
 "nbformat_minor": 2
}
